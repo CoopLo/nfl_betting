{
 "cells": [
  {
   "cell_type": "code",
   "execution_count": 1,
   "metadata": {},
   "outputs": [],
   "source": [
    "# import python packages \n",
    "import numpy as np \n",
    "import pandas as pd\n",
    "import matplotlib.pyplot as plt\n",
    "\n",
    "# import torch packages\n",
    "import torch\n",
    "from torch.utils.data import Dataset\n",
    "from torch.utils.data import DataLoader\n",
    "from torch import nn\n",
    "\n",
    "# import other packages\n",
    "from sklearn.preprocessing import OneHotEncoder, LabelEncoder"
   ]
  },
  {
   "cell_type": "code",
   "execution_count": 112,
   "metadata": {},
   "outputs": [],
   "source": [
    "# load and process data\n",
    "df= pd.read_csv(r'nfl_betting-main/scraped_data/elo_pfr_betting_data.csv')\n",
    "\n",
    "# drop unnecessary columns (no need if you already have it in your nfl strategy)\n",
    "df = df.drop(['qb1','qb2', 'playoff','date''Unnamed: 0'], axis=1)\n",
    "df = df.sort_values(by = ['season', 'team1'], ascending = True, ignore_index=True)\n",
    "target = 'qb2_game_value'    # column name to predict\n",
    "df = df.dropna(axis=1)"
   ]
  },
  {
   "cell_type": "markdown",
   "metadata": {},
   "source": [
    "# shift prediction up by 1"
   ]
  },
  {
   "cell_type": "code",
   "execution_count": 96,
   "metadata": {},
   "outputs": [
    {
     "name": "stderr",
     "output_type": "stream",
     "text": [
      "<ipython-input-96-3dc017602668>:3: SettingWithCopyWarning: \n",
      "A value is trying to be set on a copy of a slice from a DataFrame\n",
      "\n",
      "See the caveats in the documentation: https://pandas.pydata.org/pandas-docs/stable/user_guide/indexing.html#returning-a-view-versus-a-copy\n",
      "  df[target][i] = df[target][i+1]\n",
      "<ipython-input-96-3dc017602668>:6: SettingWithCopyWarning: \n",
      "A value is trying to be set on a copy of a slice from a DataFrame\n",
      "\n",
      "See the caveats in the documentation: https://pandas.pydata.org/pandas-docs/stable/user_guide/indexing.html#returning-a-view-versus-a-copy\n",
      "  df[target][i] = df[target][i]\n"
     ]
    },
    {
     "data": {
      "text/plain": [
       "0        -99.361634\n",
       "1        -48.771096\n",
       "2        -86.153471\n",
       "3        -58.861749\n",
       "4        135.824107\n",
       "            ...    \n",
       "12540    118.180242\n",
       "12541    180.379935\n",
       "12542    -82.000841\n",
       "12543    143.167774\n",
       "12544    143.167774\n",
       "Name: qb2_game_value, Length: 12545, dtype: float64"
      ]
     },
     "execution_count": 96,
     "metadata": {},
     "output_type": "execute_result"
    }
   ],
   "source": [
    "for i in range(df.shape[0]-1):\n",
    "    if df['team1'][i] == df['team1'][i+1]:\n",
    "        df[target][i] = df[target][i+1]\n",
    "        \n",
    "    else:\n",
    "        df[target][i] = df[target][i]\n",
    "df[target]   "
   ]
  },
  {
   "cell_type": "markdown",
   "metadata": {},
   "source": [
    "# # Standardize features (No need if you have it in your code) "
   ]
  },
  {
   "cell_type": "code",
   "execution_count": 97,
   "metadata": {},
   "outputs": [],
   "source": [
    "features = list(df.columns.difference([target,'team1','team2', 'spread_result', 'ou_result', 'home_third_down_success', 'Unnamed: 0', 'Unnamed: 0.1','away_third_down_success']))\n",
    "test_start = int(255*8)\n",
    "df_train = df.loc[:test_start].copy()\n",
    "df_test  = df.loc[test_start:].copy()\n",
    "\n",
    "target_mean = df_train[target].mean()\n",
    "target_stdev = df_train[target].std()\n",
    "\n",
    "for c in range(len(features)):\n",
    "    mean = df_train[features[c]].mean()\n",
    "    stdev = df_train[features[c]].std()\n",
    "\n",
    "    df_train[features[c]] = (df_train[features[c]] - mean) / stdev\n",
    "    df_train[features[c]] = (df_train[features[c]] - mean) / stdev\n"
   ]
  },
  {
   "cell_type": "markdown",
   "metadata": {},
   "source": [
    "# Onehot encode categorical columns\n",
    "\n",
    "### P.S. ou and spread have NaN's"
   ]
  },
  {
   "cell_type": "code",
   "execution_count": 99,
   "metadata": {},
   "outputs": [],
   "source": [
    "ohe = OneHotEncoder(sparse=False, categories='auto').fit_transform(df[['team1','team2']])\n",
    "newdf = df.drop(columns=['team1','team2'])\n",
    "ohe_df = pd.DataFrame(ohe)\n",
    "df = pd.concat([newdf, ohe_df],axis=1)"
   ]
  },
  {
   "cell_type": "markdown",
   "metadata": {},
   "source": [
    "## LSTM Model sequence length is 255 games i.e 1 season"
   ]
  },
  {
   "cell_type": "code",
   "execution_count": 100,
   "metadata": {},
   "outputs": [],
   "source": [
    "# Create a dataset that pytorch loader can work with \n",
    "class SequenceDataset(Dataset):\n",
    "    def __init__(self, dataframe, target, features, sequence_length=5):\n",
    "        self.features = features\n",
    "        self.target = target\n",
    "        self.sequence_length = sequence_length\n",
    "        self.y = torch.tensor(dataframe[target].values).float()\n",
    "        self.X = torch.tensor(dataframe[features].values).float()\n",
    "\n",
    "    def __len__(self):\n",
    "        return self.X.shape[0]\n",
    "\n",
    "    def __getitem__(self, i): \n",
    "        if i >= self.sequence_length - 1:\n",
    "            i_start = i - self.sequence_length + 1\n",
    "            x = self.X[i_start:(i + 1), :]\n",
    "        else:\n",
    "            padding = self.X[0].repeat(self.sequence_length - i - 1, 1)\n",
    "            x = self.X[0:(i + 1), :]\n",
    "            x = torch.cat((padding, x), 0)\n",
    "\n",
    "        return x, self.y[i]"
   ]
  },
  {
   "cell_type": "code",
   "execution_count": 101,
   "metadata": {},
   "outputs": [],
   "source": [
    "sequence_length = 255\n",
    "\n",
    "train_dataset = SequenceDataset(\n",
    "    df_train,\n",
    "    target=target,\n",
    "    features=features,\n",
    "    sequence_length=sequence_length\n",
    ")\n",
    "\n",
    "test_dataset = SequenceDataset(\n",
    "    df_test,\n",
    "    target=target,\n",
    "    features=features,\n",
    "    sequence_length=sequence_length\n",
    ")"
   ]
  },
  {
   "cell_type": "code",
   "execution_count": 102,
   "metadata": {},
   "outputs": [],
   "source": [
    "# Set the dataset in pytorch dataloader\n",
    "torch.manual_seed(99)\n",
    "batch_size = 5\n",
    "train_loader = DataLoader(train_dataset, batch_size=batch_size, shuffle=True)\n",
    "test_loader = DataLoader(test_dataset, batch_size=batch_size, shuffle=False)"
   ]
  },
  {
   "cell_type": "code",
   "execution_count": 103,
   "metadata": {},
   "outputs": [
    {
     "name": "stdout",
     "output_type": "stream",
     "text": [
      "torch.Size([5, 255, 67])\n",
      "torch.Size([5])\n",
      "tensor([[[-1.2496e+00, -2.4885e-01, -2.9943e+00,  ..., -1.7929e+00,\n",
      "          -6.6406e+02, -6.6347e+02],\n",
      "         [-6.9174e-01,  6.4530e-01, -3.0694e+00,  ..., -1.8322e+00,\n",
      "          -6.6406e+02, -6.6347e+02],\n",
      "         [-2.3655e+00, -2.0371e+00, -3.1295e+00,  ..., -1.7143e+00,\n",
      "          -6.6406e+02, -6.6347e+02],\n",
      "         ...,\n",
      "         [-1.8076e+00, -1.1430e+00, -3.1897e+00,  ..., -1.8224e+00,\n",
      "          -6.6394e+02, -6.6336e+02],\n",
      "         [-2.3655e+00, -2.0371e+00, -3.4602e+00,  ..., -1.9206e+00,\n",
      "          -6.6394e+02, -6.6336e+02],\n",
      "         [-1.8076e+00, -2.0371e+00, -2.9943e+00,  ..., -1.7831e+00,\n",
      "          -6.6394e+02, -6.6336e+02]],\n",
      "\n",
      "        [[-2.3655e+00, -2.0371e+00, -3.3250e+00,  ..., -1.7831e+00,\n",
      "          -6.6440e+02, -6.6381e+02],\n",
      "         [-6.9174e-01, -1.1430e+00, -3.4001e+00,  ..., -1.8224e+00,\n",
      "          -6.6440e+02, -6.6381e+02],\n",
      "         [-1.8076e+00, -2.0371e+00, -3.2949e+00,  ..., -1.8518e+00,\n",
      "          -6.6440e+02, -6.6381e+02],\n",
      "         ...,\n",
      "         [-6.9174e-01, -2.4885e-01, -3.3250e+00,  ..., -1.7929e+00,\n",
      "          -6.6417e+02, -6.6359e+02],\n",
      "         [-1.8076e+00, -1.1430e+00, -3.1897e+00,  ..., -1.7536e+00,\n",
      "          -6.6417e+02, -6.6359e+02],\n",
      "         [-1.8076e+00, -1.1430e+00, -3.3550e+00,  ..., -1.6161e+00,\n",
      "          -6.6417e+02, -6.6359e+02]],\n",
      "\n",
      "        [[-1.8076e+00, -1.1430e+00, -3.2949e+00,  ..., -1.7536e+00,\n",
      "          -6.6485e+02, -6.6427e+02],\n",
      "         [-1.8076e+00, -1.1430e+00, -3.2949e+00,  ..., -1.7536e+00,\n",
      "          -6.6485e+02, -6.6427e+02],\n",
      "         [-1.8076e+00, -1.1430e+00, -3.2949e+00,  ..., -1.7536e+00,\n",
      "          -6.6485e+02, -6.6427e+02],\n",
      "         ...,\n",
      "         [-1.8076e+00, -2.0371e+00, -3.2047e+00,  ..., -1.7241e+00,\n",
      "          -6.6485e+02, -6.6427e+02],\n",
      "         [-1.8076e+00, -1.1430e+00, -3.2348e+00,  ..., -1.7536e+00,\n",
      "          -6.6485e+02, -6.6427e+02],\n",
      "         [-1.8076e+00, -1.1430e+00, -3.2648e+00,  ..., -1.6161e+00,\n",
      "          -6.6485e+02, -6.6427e+02]],\n",
      "\n",
      "        [[-1.8076e+00, -1.1430e+00, -3.2949e+00,  ..., -1.7536e+00,\n",
      "          -6.6485e+02, -6.6427e+02],\n",
      "         [-1.8076e+00, -1.1430e+00, -3.2949e+00,  ..., -1.7536e+00,\n",
      "          -6.6485e+02, -6.6427e+02],\n",
      "         [-1.8076e+00, -1.1430e+00, -3.2949e+00,  ..., -1.7536e+00,\n",
      "          -6.6485e+02, -6.6427e+02],\n",
      "         ...,\n",
      "         [-2.3655e+00, -2.0371e+00, -3.1897e+00,  ..., -1.7831e+00,\n",
      "          -6.6485e+02, -6.6427e+02],\n",
      "         [-2.3655e+00, -2.0371e+00, -3.3701e+00,  ..., -1.9206e+00,\n",
      "          -6.6485e+02, -6.6427e+02],\n",
      "         [-1.3383e-01,  6.4530e-01, -3.2047e+00,  ..., -1.7634e+00,\n",
      "          -6.6485e+02, -6.6427e+02]],\n",
      "\n",
      "        [[-1.3383e-01,  1.5394e+00, -3.2799e+00,  ..., -1.3214e+00,\n",
      "          -6.6462e+02, -6.6404e+02],\n",
      "         [-1.2496e+00, -1.1430e+00, -3.2648e+00,  ..., -1.8224e+00,\n",
      "          -6.6462e+02, -6.6404e+02],\n",
      "         [-1.8076e+00, -2.0371e+00, -3.2197e+00,  ..., -1.9206e+00,\n",
      "          -6.6462e+02, -6.6404e+02],\n",
      "         ...,\n",
      "         [-2.3655e+00, -2.0371e+00, -3.2498e+00,  ..., -1.8518e+00,\n",
      "          -6.6440e+02, -6.6381e+02],\n",
      "         [-2.3655e+00, -2.0371e+00, -3.4001e+00,  ..., -1.6456e+00,\n",
      "          -6.6440e+02, -6.6381e+02],\n",
      "         [-6.9174e-01, -2.4885e-01, -3.2348e+00,  ..., -1.5080e+00,\n",
      "          -6.6440e+02, -6.6381e+02]]])\n"
     ]
    }
   ],
   "source": [
    "X, y = next(iter(train_loader))\n",
    "print(X.shape)\n",
    "print(y.shape)\n",
    "print(X)"
   ]
  },
  {
   "cell_type": "code",
   "execution_count": 104,
   "metadata": {},
   "outputs": [],
   "source": [
    "# model \n",
    "class RegressionLSTM(nn.Module):\n",
    "    def __init__(self, input_size, hidden_size, num_layers, dropout):\n",
    "        super(RegressionLSTM, self).__init__()\n",
    "        \n",
    "        self.input_size = input_size\n",
    "        self.hidden_size = hidden_size\n",
    "        self.num_layers = num_layers\n",
    "        self.dropout = dropout\n",
    "        \n",
    "        self.lstm = nn.LSTM(input_size=self.input_size,\n",
    "                            hidden_size=self.hidden_size, \n",
    "                            num_layers = self.num_layers, \n",
    "                            dropout = self.dropout, \n",
    "                            batch_first = True)\n",
    "        self.linear = nn.Linear(in_features=self.hidden_size, out_features=1)\n",
    "        \n",
    "    def forward(self,x):\n",
    "        batch_size = x.shape[0]\n",
    "        h0 = torch.zeros(self.num_layers, batch_size, self.hidden_size).requires_grad_() \n",
    "        c0 = torch.zeros(self.num_layers, batch_size, self.hidden_size).requires_grad_()\n",
    "        \n",
    "        _, (hn, _) = self.lstm(x,(h0,c0))\n",
    "        out = self.linear(hn[0]).flatten()\n",
    "        \n",
    "        return out "
   ]
  },
  {
   "cell_type": "code",
   "execution_count": null,
   "metadata": {},
   "outputs": [],
   "source": [
    "# model \n",
    "class ClassifcationSTM(nn.Module):\n",
    "    def __init__(self, input_size, hidden_size, num_layers, dropout):\n",
    "        super(RegressionLSTM, self).__init__()\n",
    "        \n",
    "        self.input_size = input_size\n",
    "        self.hidden_size = hidden_size\n",
    "        self.num_layers = num_layers\n",
    "        self.dropout = dropout\n",
    "        \n",
    "        self.lstm = nn.LSTM(input_size=self.input_size,\n",
    "                            hidden_size=self.hidden_size, \n",
    "                            num_layers = self.num_layers, \n",
    "                            dropout = self.dropout, \n",
    "                            batch_first = True)\n",
    "        self.linear = nn.Linear(in_features=self.hidden_size, out_features=1)\n",
    "        \n",
    "    def forward(self,x):\n",
    "        batch_size = x.shape[0]\n",
    "        h0 = torch.zeros(self.num_layers, batch_size, self.hidden_size).requires_grad_() \n",
    "        c0 = torch.zeros(self.num_layers, batch_size, self.hidden_size).requires_grad_()\n",
    "        \n",
    "        _, (hn, _) = self.lstm(x,(h0,c0))\n",
    "        score = self.linear(hn[0]).flatten()\n",
    "        out = F.log_softmax(out, dim=1)\n",
    "        return out "
   ]
  },
  {
   "cell_type": "code",
   "execution_count": 105,
   "metadata": {},
   "outputs": [],
   "source": [
    "# hyperparameters\n",
    "lr = 5e-5\n",
    "epoch = 10\n",
    "input_size = len(features)\n",
    "hidden_size = 16\n",
    "num_layers = 3\n",
    "dropout = 0.1\n",
    "\n",
    "model = RegressionLSTM(input_size=input_size, \n",
    "                       hidden_size=hidden_size, \n",
    "                       num_layers= num_layers,\n",
    "                       dropout= dropout\n",
    "                      )\n",
    "loss_func = nn.MSELoss()\n",
    "criterion = torch.optim.Adam(model.parameters(), lr = lr)"
   ]
  },
  {
   "cell_type": "code",
   "execution_count": 106,
   "metadata": {},
   "outputs": [],
   "source": [
    "# Training \n",
    "def train(data, model, loss_func, optimizer):\n",
    "    n_batches = len(data)\n",
    "    total_loss = 0\n",
    "    model.train()\n",
    "    \n",
    "    for x,y in data:\n",
    "        output= model(x)\n",
    "        loss = loss_func(output, y)\n",
    "        \n",
    "        optimizer.zero_grad()\n",
    "        loss.backward()\n",
    "        optimizer.step()\n",
    "        \n",
    "        total_loss += loss.item()\n",
    "        \n",
    "    mean_loss = total_loss/n_batches\n",
    "    print(f'Training loss: {mean_loss}')\n",
    "    return mean_loss\n",
    "    \n",
    "\n",
    "def test(data,model,loss_func):\n",
    "    n_batches = len(data)\n",
    "    total_loss = 0\n",
    "    \n",
    "    model.eval()\n",
    "    with torch.no_grad():\n",
    "        for x, y in data:\n",
    "            output= model(x)\n",
    "            total_loss += loss_func(output,y).item()\n",
    "            \n",
    "    mean_loss = total_loss/n_batches\n",
    "    print(f'Test loss: {mean_loss}')\n",
    "    \n",
    "    return mean_loss\n",
    "        "
   ]
  },
  {
   "cell_type": "code",
   "execution_count": 107,
   "metadata": {},
   "outputs": [],
   "source": [
    "# prediction function\n",
    "\n",
    "def predict(data, model):\n",
    "    \n",
    "    output = torch.tensor([])\n",
    "    model.eval()\n",
    "    \n",
    "    with torch.no_grad():\n",
    "        for X,_ in data:\n",
    "            y_fit = model(X)\n",
    "            output = torch.cat((output,y_fit), 0)\n",
    "    \n",
    "    return output\n",
    "\n"
   ]
  },
  {
   "cell_type": "code",
   "execution_count": 113,
   "metadata": {},
   "outputs": [
    {
     "name": "stdout",
     "output_type": "stream",
     "text": [
      "Epoch 0\n",
      " -----\n",
      "Training loss: 17575.34794008586\n",
      "Test loss: 27274.779352020163\n",
      "\n",
      "Epoch 1\n",
      " -----\n",
      "Training loss: 17555.13382793697\n",
      "Test loss: 27265.34620125438\n",
      "\n",
      "Epoch 2\n",
      " -----\n",
      "Training loss: 17645.664653750096\n",
      "Test loss: 27258.355613022177\n",
      "\n",
      "Epoch 3\n",
      " -----\n",
      "Training loss: 17569.46296807548\n",
      "Test loss: 27252.243763708942\n",
      "\n",
      "Epoch 4\n",
      " -----\n",
      "Training loss: 17495.005434516588\n",
      "Test loss: 27246.47761749892\n",
      "\n",
      "Epoch 5\n",
      " -----\n",
      "Training loss: 17495.437710713057\n",
      "Test loss: 27240.848270327293\n",
      "\n",
      "Epoch 6\n",
      " -----\n",
      "Training loss: 17490.061907556064\n",
      "Test loss: 27235.271689275625\n",
      "\n",
      "Epoch 7\n",
      " -----\n",
      "Training loss: 17471.03880642096\n",
      "Test loss: 27229.728254380876\n",
      "\n",
      "Epoch 8\n",
      " -----\n",
      "Training loss: 17482.713205649976\n",
      "Test loss: 27224.287529808746\n",
      "\n",
      "Epoch 9\n",
      " -----\n",
      "Training loss: 17426.095062032015\n",
      "Test loss: 27218.86494087753\n",
      "\n"
     ]
    }
   ],
   "source": [
    "# Run lstm \n",
    "trainloss = []\n",
    "testloss = []\n",
    "for i in range(epoch):\n",
    "    print(f'Epoch {i}\\n -----')\n",
    "    train_loss = train(train_loader, model, loss_func, optimizer=criterion)\n",
    "    trainloss.append(train_loss)\n",
    "    test_loss  = test(test_loader, model, loss_func)\n",
    "    testloss.append(test_loss)    \n",
    "    print()"
   ]
  },
  {
   "cell_type": "code",
   "execution_count": 114,
   "metadata": {},
   "outputs": [],
   "source": [
    "# prediction\n",
    "\n",
    "train_eval_loader = DataLoader(train_dataset, batch_size=batch_size, shuffle=False)\n",
    "\n",
    "y_pred = \"Game Prediction\"\n",
    "df_train[y_pred] = predict(train_eval_loader, model).numpy()\n",
    "df_test[y_pred]  = predict(test_loader, model).numpy()\n",
    "\n",
    "df_out = pd.concat((df_train, df_test))[[target, y_pred]]\n",
    "\n",
    "for c in df_out.columns:\n",
    "    df_out[c] = df_out[c] * target_stdev + target_mean\n",
    "    \n",
    "df_out.to_csv(f'{target}.csv', index=False) \n"
   ]
  },
  {
   "cell_type": "code",
   "execution_count": 115,
   "metadata": {},
   "outputs": [
    {
     "data": {
      "text/html": [
       "<div>\n",
       "<style scoped>\n",
       "    .dataframe tbody tr th:only-of-type {\n",
       "        vertical-align: middle;\n",
       "    }\n",
       "\n",
       "    .dataframe tbody tr th {\n",
       "        vertical-align: top;\n",
       "    }\n",
       "\n",
       "    .dataframe thead th {\n",
       "        text-align: right;\n",
       "    }\n",
       "</style>\n",
       "<table border=\"1\" class=\"dataframe\">\n",
       "  <thead>\n",
       "    <tr style=\"text-align: right;\">\n",
       "      <th></th>\n",
       "      <th>qb2_game_value</th>\n",
       "      <th>Game Prediction</th>\n",
       "    </tr>\n",
       "  </thead>\n",
       "  <tbody>\n",
       "    <tr>\n",
       "      <th>0</th>\n",
       "      <td>-11154.444949</td>\n",
       "      <td>278.997730</td>\n",
       "    </tr>\n",
       "    <tr>\n",
       "      <th>1</th>\n",
       "      <td>-5439.287025</td>\n",
       "      <td>278.997730</td>\n",
       "    </tr>\n",
       "    <tr>\n",
       "      <th>2</th>\n",
       "      <td>-9662.333197</td>\n",
       "      <td>278.997730</td>\n",
       "    </tr>\n",
       "    <tr>\n",
       "      <th>3</th>\n",
       "      <td>-6579.217108</td>\n",
       "      <td>278.997730</td>\n",
       "    </tr>\n",
       "    <tr>\n",
       "      <th>4</th>\n",
       "      <td>15414.231465</td>\n",
       "      <td>278.997730</td>\n",
       "    </tr>\n",
       "    <tr>\n",
       "      <th>...</th>\n",
       "      <td>...</td>\n",
       "      <td>...</td>\n",
       "    </tr>\n",
       "    <tr>\n",
       "      <th>12540</th>\n",
       "      <td>13421.023205</td>\n",
       "      <td>117.812566</td>\n",
       "    </tr>\n",
       "    <tr>\n",
       "      <th>12541</th>\n",
       "      <td>20447.654704</td>\n",
       "      <td>117.812566</td>\n",
       "    </tr>\n",
       "    <tr>\n",
       "      <th>12542</th>\n",
       "      <td>-9193.215055</td>\n",
       "      <td>117.812566</td>\n",
       "    </tr>\n",
       "    <tr>\n",
       "      <th>12543</th>\n",
       "      <td>16243.837492</td>\n",
       "      <td>117.812566</td>\n",
       "    </tr>\n",
       "    <tr>\n",
       "      <th>12544</th>\n",
       "      <td>16243.837492</td>\n",
       "      <td>117.812566</td>\n",
       "    </tr>\n",
       "  </tbody>\n",
       "</table>\n",
       "<p>12546 rows × 2 columns</p>\n",
       "</div>"
      ],
      "text/plain": [
       "       qb2_game_value  Game Prediction\n",
       "0       -11154.444949       278.997730\n",
       "1        -5439.287025       278.997730\n",
       "2        -9662.333197       278.997730\n",
       "3        -6579.217108       278.997730\n",
       "4        15414.231465       278.997730\n",
       "...               ...              ...\n",
       "12540    13421.023205       117.812566\n",
       "12541    20447.654704       117.812566\n",
       "12542    -9193.215055       117.812566\n",
       "12543    16243.837492       117.812566\n",
       "12544    16243.837492       117.812566\n",
       "\n",
       "[12546 rows x 2 columns]"
      ]
     },
     "execution_count": 115,
     "metadata": {},
     "output_type": "execute_result"
    }
   ],
   "source": [
    "df_out"
   ]
  },
  {
   "cell_type": "code",
   "execution_count": 121,
   "metadata": {},
   "outputs": [
    {
     "data": {
      "image/png": "[encoded data removed]",
      "text/plain": [
       "<Figure size 432x288 with 1 Axes>"
      ]
     },
     "metadata": {
      "needs_background": "light"
     },
     "output_type": "display_data"
    },
    {
     "data": {
      "image/png": "[encoded data removed]",
      "text/plain": [
       "<Figure size 432x288 with 1 Axes>"
      ]
     },
     "metadata": {
      "needs_background": "light"
     },
     "output_type": "display_data"
    }
   ],
   "source": [
    "plt.plot(df_out['qb2_game_value'])\n",
    "plt.plot(df_out['Game Prediction'])\n",
    "plt.show()\n",
    "\n",
    "plt.plot(trainloss, label='training')\n",
    "plt.plot(testloss, label = 'test')\n",
    "plt.legend()\n",
    "plt.show()"
   ]
  }
 ],
 "metadata": {
  "kernelspec": {
   "display_name": "Python 3",
   "language": "python",
   "name": "python3"
  },
  "language_info": {
   "codemirror_mode": {
    "name": "ipython",
    "version": 3
   },
   "file_extension": ".py",
   "mimetype": "text/x-python",
   "name": "python",
   "nbconvert_exporter": "python",
   "pygments_lexer": "ipython3",
   "version": "3.8.3"
  }
 },
 "nbformat": 4,
 "nbformat_minor": 4
}
