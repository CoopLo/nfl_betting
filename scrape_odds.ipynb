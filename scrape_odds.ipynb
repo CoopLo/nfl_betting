{
 "cells": [
  {
   "cell_type": "code",
   "execution_count": 1,
   "metadata": {},
   "outputs": [],
   "source": [
    "import requests\n",
    "import urllib.request\n",
    "import time\n",
    "from bs4 import BeautifulSoup\n",
    "import bs4\n",
    "import pandas as pd\n",
    "import numpy as np\n",
    "from tqdm import tqdm\n",
    "import os\n",
    "\n",
    "from selenium import webdriver\n",
    "from selenium.webdriver.common.keys import Keys\n",
    "import validators\n",
    "\n",
    "from selenium.webdriver.common.desired_capabilities import DesiredCapabilities\n",
    "from selenium import webdriver\n",
    "import urllib\n",
    "from selenium import webdriver\n",
    "from selenium.webdriver.chrome.service import Service\n",
    "from selenium.webdriver.common.by import By\n",
    "\n",
    "from tqdm import tqdm"
   ]
  },
  {
   "cell_type": "code",
   "execution_count": 33,
   "metadata": {},
   "outputs": [],
   "source": [
    "nfl_data = pd.read_csv(\"./nfl-elo/nfl_elo.csv\")\n",
    "nfl_data['year'] = nfl_data['date'].apply(lambda x: int(x.split(\"-\")[0]))\n",
    "#nfl_data['month'] = nfl_data['date'].apply(lambda x: int(x.split(\"-\")[1]))\n",
    "\n",
    "game_data = nfl_data[(nfl_data['year'] == 2010) | \\\n",
    "                     (nfl_data['year'] == 2011) | \\\n",
    "                     (nfl_data['year'] == 2012) | \\\n",
    "                     (nfl_data['year'] == 2013) | \\\n",
    "                     (nfl_data['year'] == 2014) | \\\n",
    "                     (nfl_data['year'] == 2015) | \\\n",
    "                     (nfl_data['year'] == 2016) | \\\n",
    "                     (nfl_data['year'] == 2017) | \\\n",
    "                     (nfl_data['year'] == 2018) | \\\n",
    "                     (nfl_data['year'] == 2019) | \\\n",
    "                     (nfl_data['year'] == 2020) | \\\n",
    "                     (nfl_data['year'] == 2021) | \\\n",
    "                     (nfl_data['year'] == 2022)\n",
    "                    ]\n",
    "game_data = game_data[27:]"
   ]
  },
  {
   "cell_type": "code",
   "execution_count": 3,
   "metadata": {},
   "outputs": [],
   "source": [
    "teams = [\n",
    "    'BUF',\n",
    "    'BAL',\n",
    "    'HOU',\n",
    "    'DEN',\n",
    "    'MIA',\n",
    "    'CIN',\n",
    "    'IND',\n",
    "    'KAN',\n",
    "    'NWE',\n",
    "    'CLE',\n",
    "    'JAX',\n",
    "    'LVR',\n",
    "    'NYJ',\n",
    "    'PIT',\n",
    "    'TEN',\n",
    "    'LAC',\n",
    "    'DAL',\n",
    "    'CHI',\n",
    "    'ATL',\n",
    "    'ARI',\n",
    "    'NYG',\n",
    "    'DET',\n",
    "    'CAR',\n",
    "    'LAR',\n",
    "    'PHI',\n",
    "    'GBP',\n",
    "    'NOS',\n",
    "    'SFF',\n",
    "    'WAS',\n",
    "    'MIN',\n",
    "    'TBB',\n",
    "    'SEA'\n",
    "]\n",
    "\n",
    "teams_map = {\n",
    "    'Buffalo Bills': 'BUF',\n",
    "    'Baltimore Ravens': 'BAL',\n",
    "    'Houston Texans': 'HOU',\n",
    "    'Denver Broncos': 'DEN',\n",
    "    'Miami Dolphins': 'MIA',\n",
    "    'Cincinnati Bengals': 'CIN',\n",
    "    'Indianapolis Colts': 'IND',\n",
    "    'Kansas City Chiefs': 'KAN',\n",
    "    'New England Patriots': 'NWE',\n",
    "    'Cleveland Browns': 'CLE',\n",
    "    'Jacksonville Jaguars': 'JAX',\n",
    "    'Las Vegas Raiders': 'LVR',\n",
    "    'Oakland Raiders': 'LVR',\n",
    "    'New York Jets': 'NYJ',\n",
    "    'Pittsburgh Steelers': 'PIT',\n",
    "    'Tennessee Titans': 'TEN',\n",
    "    'Los Angeles Chargers': 'LAC',\n",
    "    'San Diego Chargers': 'LAC',\n",
    "    'Dallas Cowboys': 'DAL',\n",
    "    'Chicago Bears': 'CHI',\n",
    "    'Atlanta Falcons': 'ATL',\n",
    "    'Arizona Cardinals': 'ARI',\n",
    "    'New York Giants': 'NYG',\n",
    "    'Detroit Lions': 'DET',\n",
    "    'Carolina Panthers': 'CAR',\n",
    "    'Los Angeles Rams': 'LAR',\n",
    "    'St Louis Rams': 'LAR',\n",
    "    'Philadelphia Eagles': 'PHI',\n",
    "    'Green Bay Packers': 'GBP',\n",
    "    'New Orleans Saints': 'NOS',\n",
    "    'San Francisco 49ers': 'SFF',\n",
    "    'Washington Football Team': 'WAS',\n",
    "    'Washington Redskins': 'WAS',\n",
    "    'Minnesota Vikings': 'MIN',\n",
    "    'Tampa Bay Buccaneers': 'TBB',\n",
    "    'Seattle Seahawks': 'SEA'\n",
    "}\n",
    "\n",
    "month_map = {\"Jan\": 1, \"Feb\": 2, \"Sep\": 9, \"Oct\": 10, \"Nov\": 11, \"Dec\": 12}"
   ]
  },
  {
   "cell_type": "code",
   "execution_count": 4,
   "metadata": {},
   "outputs": [
    {
     "name": "stdout",
     "output_type": "stream",
     "text": [
      "ALL URLS ARE VALID\n"
     ]
    }
   ],
   "source": [
    "base_url = \"https://www.sportsoddshistory.com/nfl-game-team/?tm=\"\n",
    "previous_years = \"&d=2010#2019\"\n",
    "valid = True\n",
    "for t in teams:\n",
    "    validators.url(base_url + t)\n",
    "    if(not validators.url(base_url + t)):\n",
    "        print(\"{} IS NOT VALID\".format(t))\n",
    "        valid = False\n",
    "    if(not validators.url(base_url + t + previous_years)):\n",
    "        print(\"{} IS NOT VALID\".format(t))\n",
    "        valid = False\n",
    "        \n",
    "if(valid):\n",
    "    print(\"ALL URLS ARE VALID\")"
   ]
  },
  {
   "cell_type": "markdown",
   "metadata": {},
   "source": [
    "## Put scraper together for all teams"
   ]
  },
  {
   "cell_type": "code",
   "execution_count": 29,
   "metadata": {},
   "outputs": [],
   "source": [
    "def scrape_tables(team, tables):\n",
    "    dates = []\n",
    "    times = []\n",
    "    current_teams = []\n",
    "    opponents = []\n",
    "    team_scores = []\n",
    "    opp_scores = []\n",
    "    game_results = []\n",
    "    spreads = []\n",
    "    spread_results = []\n",
    "    ou_lines = []\n",
    "    ou_results = []\n",
    "    for table in tables:\n",
    "        th_val = len(table.findAll('th'))\n",
    "        if(th_val in [9,10]):\n",
    "            for i in range(len(table.findAll('td'))//th_val):\n",
    "                table_td = table.findAll('td')\n",
    "\n",
    "                # Get Date and time\n",
    "                date_td = table_td[i*th_val + 2].contents[0]\n",
    "                date_str = date_td[-4:] + \"-\"\n",
    "                month_str = str(month_map[table.findAll('td')[i*th_val + 2].contents[0][:3]])\n",
    "                month_str = month_str if(len(month_str) == 2) else '0'+month_str\n",
    "                date_str += month_str\n",
    "                date_str += \"-\" + date_td.split(\" \")[1].split(\",\")[0]\n",
    "                dates.append(date_str)\n",
    "                times.append(table_td[i*th_val + 3].contents[0])\n",
    "\n",
    "\n",
    "                # Get teams\n",
    "                current_teams.append(team)\n",
    "                opponents.append(teams_map[table_td[i*th_val + 5].contents[0].contents[0]])\n",
    "\n",
    "                # Get score and outcome\n",
    "                game_results.append(table_td[i*th_val + 6].contents[0][0])\n",
    "                team_scores.append(int(table_td[i*th_val + 6].contents[0][2:].split(\"-\")[0]))\n",
    "                opp_scores.append(int(table_td[i*th_val + 6].contents[0][2:].split(\"-\")[1].split(\" \")[0]))\n",
    "\n",
    "                # Get spread and outcome\n",
    "                spread_results.append(table_td[i*th_val + 7].contents[0][0])\n",
    "                if(table_td[i*th_val + 7].contents[0][2:] == 'PK'):\n",
    "                    spreads.append(0.)\n",
    "                else:\n",
    "                    spreads.append(float(table_td[i*th_val + 7].contents[0][2:]))\n",
    "\n",
    "                # Get over/under and outcome\n",
    "                ou_results.append(table_td[i*th_val + 8].contents[0][0])\n",
    "                ou_lines.append(table_td[i*th_val + 8].contents[0][2:])\n",
    "\n",
    "    return dates, times, current_teams, opponents, game_results, team_scores, opp_scores, spread_results, spreads, ou_results, ou_lines"
   ]
  },
  {
   "cell_type": "code",
   "execution_count": 30,
   "metadata": {
    "scrolled": true
   },
   "outputs": [
    {
     "name": "stderr",
     "output_type": "stream",
     "text": [
      "\r",
      "0it [00:00, ?it/s]"
     ]
    },
    {
     "name": "stdout",
     "output_type": "stream",
     "text": [
      "DONE WITH 2020-2021 BUF\n",
      "DONE WITH 2011-2019 BUF\n"
     ]
    },
    {
     "name": "stderr",
     "output_type": "stream",
     "text": [
      "\r",
      "1it [00:09,  9.76s/it]"
     ]
    },
    {
     "name": "stdout",
     "output_type": "stream",
     "text": [
      "DONE WITH 2020-2021 BAL\n",
      "DONE WITH 2011-2019 BAL\n"
     ]
    },
    {
     "name": "stderr",
     "output_type": "stream",
     "text": [
      "\r",
      "2it [00:20, 10.28s/it]"
     ]
    },
    {
     "name": "stdout",
     "output_type": "stream",
     "text": [
      "DONE WITH 2020-2021 HOU\n",
      "DONE WITH 2011-2019 HOU\n"
     ]
    },
    {
     "name": "stderr",
     "output_type": "stream",
     "text": [
      "\r",
      "3it [00:31, 10.63s/it]"
     ]
    },
    {
     "name": "stdout",
     "output_type": "stream",
     "text": [
      "DONE WITH 2020-2021 DEN\n",
      "DONE WITH 2011-2019 DEN\n"
     ]
    },
    {
     "name": "stderr",
     "output_type": "stream",
     "text": [
      "\r",
      "4it [00:47, 12.85s/it]"
     ]
    },
    {
     "name": "stdout",
     "output_type": "stream",
     "text": [
      "DONE WITH 2020-2021 MIA\n",
      "DONE WITH 2011-2019 MIA\n"
     ]
    },
    {
     "name": "stderr",
     "output_type": "stream",
     "text": [
      "\r",
      "5it [00:57, 11.92s/it]"
     ]
    },
    {
     "name": "stdout",
     "output_type": "stream",
     "text": [
      "DONE WITH 2020-2021 CIN\n",
      "DONE WITH 2011-2019 CIN\n"
     ]
    },
    {
     "name": "stderr",
     "output_type": "stream",
     "text": [
      "\r",
      "6it [01:08, 11.45s/it]"
     ]
    },
    {
     "name": "stdout",
     "output_type": "stream",
     "text": [
      "DONE WITH 2020-2021 IND\n",
      "DONE WITH 2011-2019 IND\n"
     ]
    },
    {
     "name": "stderr",
     "output_type": "stream",
     "text": [
      "\r",
      "7it [01:19, 11.16s/it]"
     ]
    },
    {
     "name": "stdout",
     "output_type": "stream",
     "text": [
      "DONE WITH 2020-2021 KAN\n",
      "DONE WITH 2011-2019 KAN\n"
     ]
    },
    {
     "name": "stderr",
     "output_type": "stream",
     "text": [
      "\r",
      "8it [01:28, 10.74s/it]"
     ]
    },
    {
     "name": "stdout",
     "output_type": "stream",
     "text": [
      "DONE WITH 2020-2021 NWE\n",
      "DONE WITH 2011-2019 NWE\n"
     ]
    },
    {
     "name": "stderr",
     "output_type": "stream",
     "text": [
      "\r",
      "9it [01:38, 10.46s/it]"
     ]
    },
    {
     "name": "stdout",
     "output_type": "stream",
     "text": [
      "DONE WITH 2020-2021 CLE\n",
      "DONE WITH 2011-2019 CLE\n"
     ]
    },
    {
     "name": "stderr",
     "output_type": "stream",
     "text": [
      "\r",
      "10it [01:49, 10.52s/it]"
     ]
    },
    {
     "name": "stdout",
     "output_type": "stream",
     "text": [
      "DONE WITH 2020-2021 JAX\n",
      "DONE WITH 2011-2019 JAX\n"
     ]
    },
    {
     "name": "stderr",
     "output_type": "stream",
     "text": [
      "\r",
      "11it [01:59, 10.44s/it]"
     ]
    },
    {
     "name": "stdout",
     "output_type": "stream",
     "text": [
      "DONE WITH 2020-2021 LVR\n",
      "DONE WITH 2011-2019 LVR\n"
     ]
    },
    {
     "name": "stderr",
     "output_type": "stream",
     "text": [
      "\r",
      "12it [02:09, 10.26s/it]"
     ]
    },
    {
     "name": "stdout",
     "output_type": "stream",
     "text": [
      "DONE WITH 2020-2021 NYJ\n",
      "DONE WITH 2011-2019 NYJ\n"
     ]
    },
    {
     "name": "stderr",
     "output_type": "stream",
     "text": [
      "\r",
      "13it [02:20, 10.52s/it]"
     ]
    },
    {
     "name": "stdout",
     "output_type": "stream",
     "text": [
      "DONE WITH 2020-2021 PIT\n",
      "DONE WITH 2011-2019 PIT\n"
     ]
    },
    {
     "name": "stderr",
     "output_type": "stream",
     "text": [
      "\r",
      "14it [02:32, 10.88s/it]"
     ]
    },
    {
     "name": "stdout",
     "output_type": "stream",
     "text": [
      "DONE WITH 2020-2021 TEN\n",
      "DONE WITH 2011-2019 TEN\n"
     ]
    },
    {
     "name": "stderr",
     "output_type": "stream",
     "text": [
      "\r",
      "15it [02:42, 10.81s/it]"
     ]
    },
    {
     "name": "stdout",
     "output_type": "stream",
     "text": [
      "DONE WITH 2020-2021 LAC\n",
      "DONE WITH 2011-2019 LAC\n"
     ]
    },
    {
     "name": "stderr",
     "output_type": "stream",
     "text": [
      "\r",
      "16it [02:53, 10.80s/it]"
     ]
    },
    {
     "name": "stdout",
     "output_type": "stream",
     "text": [
      "DONE WITH 2020-2021 DAL\n",
      "DONE WITH 2011-2019 DAL\n"
     ]
    },
    {
     "name": "stderr",
     "output_type": "stream",
     "text": [
      "\r",
      "17it [03:03, 10.55s/it]"
     ]
    },
    {
     "name": "stdout",
     "output_type": "stream",
     "text": [
      "DONE WITH 2020-2021 CHI\n",
      "DONE WITH 2011-2019 CHI\n"
     ]
    },
    {
     "name": "stderr",
     "output_type": "stream",
     "text": [
      "\r",
      "18it [03:17, 11.60s/it]"
     ]
    },
    {
     "name": "stdout",
     "output_type": "stream",
     "text": [
      "DONE WITH 2020-2021 ATL\n",
      "DONE WITH 2011-2019 ATL\n"
     ]
    },
    {
     "name": "stderr",
     "output_type": "stream",
     "text": [
      "\r",
      "19it [03:27, 11.09s/it]"
     ]
    },
    {
     "name": "stdout",
     "output_type": "stream",
     "text": [
      "DONE WITH 2020-2021 ARI\n",
      "DONE WITH 2011-2019 ARI\n"
     ]
    },
    {
     "name": "stderr",
     "output_type": "stream",
     "text": [
      "\r",
      "20it [03:37, 10.82s/it]"
     ]
    },
    {
     "name": "stdout",
     "output_type": "stream",
     "text": [
      "DONE WITH 2020-2021 NYG\n",
      "DONE WITH 2011-2019 NYG\n"
     ]
    },
    {
     "name": "stderr",
     "output_type": "stream",
     "text": [
      "\r",
      "21it [03:48, 10.78s/it]"
     ]
    },
    {
     "name": "stdout",
     "output_type": "stream",
     "text": [
      "DONE WITH 2020-2021 DET\n",
      "DONE WITH 2011-2019 DET\n"
     ]
    },
    {
     "name": "stderr",
     "output_type": "stream",
     "text": [
      "\r",
      "22it [03:58, 10.51s/it]"
     ]
    },
    {
     "name": "stdout",
     "output_type": "stream",
     "text": [
      "DONE WITH 2020-2021 CAR\n",
      "DONE WITH 2011-2019 CAR\n"
     ]
    },
    {
     "name": "stderr",
     "output_type": "stream",
     "text": [
      "\r",
      "23it [04:08, 10.42s/it]"
     ]
    },
    {
     "name": "stdout",
     "output_type": "stream",
     "text": [
      "DONE WITH 2020-2021 LAR\n",
      "DONE WITH 2011-2019 LAR\n"
     ]
    },
    {
     "name": "stderr",
     "output_type": "stream",
     "text": [
      "\r",
      "24it [04:19, 10.60s/it]"
     ]
    },
    {
     "name": "stdout",
     "output_type": "stream",
     "text": [
      "DONE WITH 2020-2021 PHI\n",
      "DONE WITH 2011-2019 PHI\n"
     ]
    },
    {
     "name": "stderr",
     "output_type": "stream",
     "text": [
      "\r",
      "25it [04:29, 10.36s/it]"
     ]
    },
    {
     "name": "stdout",
     "output_type": "stream",
     "text": [
      "DONE WITH 2020-2021 GBP\n",
      "DONE WITH 2011-2019 GBP\n"
     ]
    },
    {
     "name": "stderr",
     "output_type": "stream",
     "text": [
      "\r",
      "26it [04:39, 10.18s/it]"
     ]
    },
    {
     "name": "stdout",
     "output_type": "stream",
     "text": [
      "DONE WITH 2020-2021 NOS\n",
      "DONE WITH 2011-2019 NOS\n"
     ]
    },
    {
     "name": "stderr",
     "output_type": "stream",
     "text": [
      "\r",
      "27it [04:51, 10.93s/it]"
     ]
    },
    {
     "name": "stdout",
     "output_type": "stream",
     "text": [
      "DONE WITH 2020-2021 SFF\n",
      "DONE WITH 2011-2019 SFF\n"
     ]
    },
    {
     "name": "stderr",
     "output_type": "stream",
     "text": [
      "\r",
      "28it [05:01, 10.66s/it]"
     ]
    },
    {
     "name": "stdout",
     "output_type": "stream",
     "text": [
      "DONE WITH 2020-2021 WAS\n",
      "DONE WITH 2011-2019 WAS\n"
     ]
    },
    {
     "name": "stderr",
     "output_type": "stream",
     "text": [
      "\r",
      "29it [05:15, 11.43s/it]"
     ]
    },
    {
     "name": "stdout",
     "output_type": "stream",
     "text": [
      "DONE WITH 2020-2021 MIN\n",
      "DONE WITH 2011-2019 MIN\n"
     ]
    },
    {
     "name": "stderr",
     "output_type": "stream",
     "text": [
      "\r",
      "30it [05:28, 11.89s/it]"
     ]
    },
    {
     "name": "stdout",
     "output_type": "stream",
     "text": [
      "DONE WITH 2020-2021 TBB\n",
      "DONE WITH 2011-2019 TBB\n"
     ]
    },
    {
     "name": "stderr",
     "output_type": "stream",
     "text": [
      "\r",
      "31it [05:37, 11.22s/it]"
     ]
    },
    {
     "name": "stdout",
     "output_type": "stream",
     "text": [
      "DONE WITH 2020-2021 SEA\n",
      "DONE WITH 2011-2019 SEA\n"
     ]
    },
    {
     "name": "stderr",
     "output_type": "stream",
     "text": [
      "32it [05:47, 10.86s/it]\n"
     ]
    }
   ],
   "source": [
    "dates = []\n",
    "times = []\n",
    "current_teams = []\n",
    "opponents = []\n",
    "team_scores = []\n",
    "opp_scores = []\n",
    "game_results = []\n",
    "spreads = []\n",
    "spread_results = []\n",
    "ou_lines = []\n",
    "ou_results = []\n",
    "\n",
    "for idx, t in tqdm(enumerate(teams)):\n",
    "    url = base_url + teams[0] #+ previous_years\n",
    "    req = requests.get(url)\n",
    "    soup = BeautifulSoup(req.content, 'html.parser')\n",
    "    tables = soup.findAll(lambda tag: tag.name=='table')\n",
    "    output = scrape_tables(t, tables)\n",
    "\n",
    "    # Get results\n",
    "    dates.extend(output[0])\n",
    "    times.extend(output[1])\n",
    "    current_teams.extend(output[2])\n",
    "    opponents.extend(output[3])\n",
    "    game_results.extend(output[4])\n",
    "    team_scores.extend(output[5])\n",
    "    opp_scores.extend(output[6])\n",
    "    spread_results.extend(output[7])\n",
    "    spreads.extend(output[8])\n",
    "    ou_results.extend(output[9])\n",
    "    ou_lines.extend(output[10])\n",
    "    print(\"DONE WITH 2020-2021 {}\".format(t))\n",
    "    \n",
    "    time.sleep(1)\n",
    "    url = base_url + teams[0] + previous_years\n",
    "    req = requests.get(url)\n",
    "    soup = BeautifulSoup(req.content, 'html.parser')\n",
    "    tables = soup.findAll(lambda tag: tag.name=='table')\n",
    "    output = scrape_tables(t, tables)\n",
    "    \n",
    "    # Get results\n",
    "    dates.extend(output[0])\n",
    "    times.extend(output[1])\n",
    "    current_teams.extend(output[2])\n",
    "    opponents.extend(output[3])\n",
    "    game_results.extend(output[4])\n",
    "    team_scores.extend(output[5])\n",
    "    opp_scores.extend(output[6])\n",
    "    spread_results.extend(output[7])\n",
    "    spreads.extend(output[8])\n",
    "    ou_results.extend(output[9])\n",
    "    ou_lines.extend(output[10])\n",
    "    print(\"DONE WITH 2010-2019 {}\".format(t))\n",
    "\n",
    "\n",
    "    time.sleep(5)"
   ]
  },
  {
   "cell_type": "code",
   "execution_count": 41,
   "metadata": {},
   "outputs": [],
   "source": [
    "# Save data\n",
    "np.save(\"./scraped_data/dates.npy\", dates)\n",
    "np.save(\"./scraped_data/times.npy\", times)\n",
    "np.save(\"./scraped_data/current_teams.npy\", current_teams)\n",
    "np.save(\"./scraped_data/opponents.npy\", opponents)\n",
    "np.save(\"./scraped_data/game_results.npy\", game_results)\n",
    "np.save(\"./scraped_data/team_scores.npy\", team_scores)\n",
    "np.save(\"./scraped_data/opp_scores.npy\", opp_scores)\n",
    "np.save(\"./scraped_data/spread_results.npy\", spread_results)\n",
    "np.save(\"./scraped_data/spreads.npy\", spreads)\n",
    "np.save(\"./scraped_data/ou_results.npy\", ou_results)\n",
    "np.save(\"./scraped_data/dates.npy\", dates)"
   ]
  },
  {
   "cell_type": "markdown",
   "metadata": {},
   "source": [
    "## Debugging code"
   ]
  },
  {
   "cell_type": "code",
   "execution_count": 261,
   "metadata": {
    "scrolled": true
   },
   "outputs": [],
   "source": [
    "url = base_url + teams[0] #+ previous_years\n",
    "req = requests.get(url)#, headers)\n",
    "soup = BeautifulSoup(req.content, 'html.parser')\n",
    "tables = soup.findAll(lambda tag: tag.name=='table')"
   ]
  },
  {
   "cell_type": "code",
   "execution_count": 257,
   "metadata": {},
   "outputs": [
    {
     "name": "stdout",
     "output_type": "stream",
     "text": [
      "['2021-9-12', '2021-9-19', '2021-9-26', '2021-10-3', '2021-10-10', '2021-10-18', '2021-10-31', '2021-11-7', '2021-11-14', '2021-11-21', '2021-11-25', '2021-12-6', '2021-12-12', '2021-12-19', '2021-12-26', '2022-1-2', '2022-1-9', '2022-1-15', '2022-1-23', '2020-9-13', '2020-9-20', '2020-9-27', '2020-10-4', '2020-10-13', '2020-10-19', '2020-10-25', '2020-11-1', '2020-11-8', '2020-11-15', '2020-11-29', '2020-12-7', '2020-12-13', '2020-12-19', '2020-12-28', '2021-1-3', '2021-1-9', '2021-1-16', '2021-1-24']\n",
      "['1:00', '1:00', '1:00', '1:00', '8:20', '8:15', '1:00', '1:00', '1:00', '1:00', '8:20', '8:15', '4:25', '1:00', '1:00', '1:00', '1:00', '8:15', '6:30', '1:00', '1:00', '1:00', '4:25', '7:00', '5:00', '1:00', '1:00', '1:00', '4:04', '1:00', '8:15', '8:20', '4:30', '8:15', '1:00', '1:05', '8:15', '6:40']\n",
      "['PIT', 'MIA', 'WAS', 'HOU', 'KAN', 'TEN', 'MIA', 'JAX', 'NYJ', 'IND', 'NOS', 'NWE', 'TBB', 'CAR', 'NWE', 'ATL', 'NYJ', 'NWE', 'KAN', 'NYJ', 'MIA', 'LAR', 'LVR', 'TEN', 'KAN', 'NYJ', 'NWE', 'SEA', 'ARI', 'LAC', 'SFF', 'PIT', 'DEN', 'NWE', 'MIA', 'IND', 'BAL', 'KAN']\n",
      "['L', 'W', 'W', 'W', 'W', 'L', 'W', 'L', 'W', 'L', 'W', 'L', 'L', 'W', 'W', 'W', 'W', 'W', 'L', 'W', 'W', 'W', 'W', 'L', 'L', 'W', 'W', 'W', 'L', 'W', 'W', 'W', 'W', 'W', 'W', 'W', 'W', 'L']\n",
      "[16, 35, 43, 40, 38, 31, 26, 6, 45, 15, 31, 10, 27, 31, 33, 29, 27, 47, 36, 27, 31, 35, 30, 16, 17, 18, 24, 44, 30, 27, 34, 26, 48, 38, 56, 27, 17, 24]\n",
      "[23, 0, 21, 0, 20, 34, 11, 9, 17, 41, 6, 14, 33, 14, 21, 15, 10, 17, 42, 17, 28, 32, 23, 42, 26, 10, 21, 34, 32, 17, 24, 15, 19, 9, 26, 24, 3, 38]\n",
      "['L', 'W', 'W', 'W', 'W', 'L', 'W', 'L', 'W', 'L', 'W', 'L', 'L', 'W', 'W', 'L', 'W', 'W', 'L', 'W', 'L', 'W', 'W', 'L', 'L', 'L', 'L', 'W', 'W', 'W', 'W', 'W', 'W', 'W', 'W', 'L', 'W', 'L']\n",
      "[-6.5, -3.5, -7.0, -17.5, 2.5, -6.0, -14.0, -14.5, -13.0, -7.0, -6.5, -2.5, 3.5, -14.5, 1.5, -14.5, -16.5, -4.0, 2.0, -6.5, -5.5, -1.5, -3.0, -3.0, 5.5, -9.5, -4.0, 3.0, 3.0, -4.5, 1.5, -2.0, -5.5, -7.0, 3.5, -7.0, -2.5, 3.0, -6.5, -3.5, -7.0, -17.5, 2.5, -6.0, -14.0, -14.5, -13.0, -7.0, -6.5, -2.5, 3.5, -14.5, 1.5, -14.5, -16.5, -4.0, 2.0, -6.5, -5.5, -1.5, -3.0, -3.0, 5.5, -9.5, -4.0, 3.0, 3.0, -4.5, 1.5, -2.0, -5.5, -7.0, 3.5, -7.0, -2.5, 3.0, -6.5, -3.5, -7.0, -17.5, 2.5, -6.0, -14.0, -14.5, -13.0, -7.0, -6.5, -2.5, 3.5, -14.5, 1.5, -14.5, -16.5, -4.0, 2.0, -6.5, -5.5, -1.5, -3.0, -3.0, 5.5, -9.5, -4.0, 3.0, 3.0, -4.5, 1.5, -2.0, -5.5, -7.0, 3.5, -7.0, -2.5, 3.0, -6.5, -3.5, -7.0, -17.5, 2.5, -6.0, -14.0, -14.5, -13.0, -7.0, -6.5, -2.5, 3.5, -14.5, 1.5, -14.5, -16.5, -4.0, 2.0, -6.5, -5.5, -1.5, -3.0, -3.0, 5.5, -9.5, -4.0, 3.0, 3.0, -4.5, 1.5, -2.0, -5.5, -7.0, 3.5, -7.0, -2.5, 3.0, -6.5, -3.5, -7.0, -17.5, 2.5, -6.0, -14.0, -14.5, -13.0, -7.0, -6.5, -2.5, 3.5, -14.5, 1.5, -14.5, -16.5, -4.0, 2.0, -6.5, -5.5, -1.5, -3.0, -3.0, 5.5, -9.5, -4.0, 3.0, 3.0, -4.5, 1.5, -2.0, -5.5, -7.0, 3.5, -7.0, -2.5, 3.0, -6.5, -3.5, -7.0, -17.5, 2.5, -6.0, -14.0, -14.5, -13.0, -7.0, -6.5, -2.5, 3.5, -14.5, 1.5, -14.5, -16.5, -4.0, 2.0, -6.5, -5.5, -1.5, -3.0, -3.0, 5.5, -9.5, -4.0, 3.0, 3.0, -4.5, 1.5, -2.0, -5.5, -7.0, 3.5, -7.0, -2.5, 3.0, -6.5, -3.5, -7.0, -17.5, 2.5, -6.0, -14.0, -14.5, -13.0, -7.0, -6.5, -2.5, 3.5, -14.5, 1.5, -14.5, -16.5, -4.0, 2.0, -6.5, -5.5, -1.5, -3.0, -3.0, 5.5, -9.5, -4.0, 3.0, 3.0, -4.5, 1.5, -2.0, -5.5, -7.0, 3.5, -7.0, -2.5, 3.0]\n",
      "['U', 'U', 'O', 'U', 'O', 'O', 'U', 'U', 'O', 'O', 'U', 'U', 'O', 'O', 'O', 'P', 'U', 'O', 'O', 'O', 'O', 'O', 'P', 'O', 'U', 'U', 'O', 'O', 'O', 'U', 'O', 'U', 'O', 'U', 'O', 'O', 'U', 'O']\n",
      "['48.5', '47.5', '45.5', '47', '56.5', '53.5', '49', '48.5', '47.5', '49.5', '45', '41', '54.5', '43', '43.5', '44', '40.5', '44', '54.5', '39.5', '42.5', '46.5', '53', '52', '55', '47', '41', '55.5', '56', '51.5', '48', '48.5', '49', '47.5', '43', '50.5', '49.5', '55']\n"
     ]
    }
   ],
   "source": [
    "dates = []\n",
    "times = []\n",
    "current_teams = []\n",
    "opponents = []\n",
    "team_scores = []\n",
    "opp_scores = []\n",
    "game_results = []\n",
    "spreads = []\n",
    "spread_results = []\n",
    "ou_lines = []\n",
    "ou_results = []\n",
    "for table in tables:\n",
    "    th_val = len(table.findAll('th'))\n",
    "    if(th_val in [9,10]):\n",
    "        for i in range(len(table.findAll('td'))//th_val):\n",
    "            table_td = table.findAll('td')\n",
    "            \n",
    "            # Get Date and time\n",
    "            date_td = table_td[i*th_val + 2].contents[0]\n",
    "            date_str = date_td[-4:] + \"-\"\n",
    "            date_str += str(month_map[table.findAll('td')[i*th_val + 2].contents[0][:3]])\n",
    "            date_str += \"-\" + date_td.split(\" \")[1].split(\",\")[0]\n",
    "            dates.append(date_str)\n",
    "            times.append(table_td[i*th_val + 3].contents[0])\n",
    "\n",
    "            \n",
    "            # Get teams\n",
    "            current_teams.append(\"BUF\")\n",
    "            opponents.append(teams_map[table_td[i*th_val + 5].contents[0].contents[0]])\n",
    "            \n",
    "            # Get score and outcome\n",
    "            game_results.append(table_td[i*th_val + 6].contents[0][0])\n",
    "            team_scores.append(int(table_td[i*th_val + 6].contents[0][2:].split(\"-\")[0]))\n",
    "            opp_scores.append(int(table_td[i*th_val + 6].contents[0][2:].split(\"-\")[1].split(\" \")[0]))\n",
    "            \n",
    "            # Get spread and outcome\n",
    "            spread_results.append(table_td[i*th_val + 7].contents[0][0])\n",
    "            spread.append(float(table_td[i*th_val + 7].contents[0][2:]))\n",
    "            \n",
    "            # Get over/under and outcome\n",
    "            ou_results.append(table_td[i*th_val + 8].contents[0][0])\n",
    "            ou_lines.append(table_td[i*th_val + 8].contents[0][2:])\n",
    "            \n",
    "print(dates)\n",
    "print(times)\n",
    "print(opponents)\n",
    "print(game_results)\n",
    "print(team_scores)\n",
    "print(opp_scores)\n",
    "print(spread_results)\n",
    "print(spread)\n",
    "print(ou_results)\n",
    "print(ou_lines)"
   ]
  }
 ],
 "metadata": {
  "kernelspec": {
   "display_name": "Python 3 (ipykernel)",
   "language": "python",
   "name": "python3"
  },
  "language_info": {
   "codemirror_mode": {
    "name": "ipython",
    "version": 3
   },
   "file_extension": ".py",
   "mimetype": "text/x-python",
   "name": "python",
   "nbconvert_exporter": "python",
   "pygments_lexer": "ipython3",
   "version": "3.10.2"
  }
 },
 "nbformat": 4,
 "nbformat_minor": 2
}
