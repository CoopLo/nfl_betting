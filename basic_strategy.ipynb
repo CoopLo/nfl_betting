{
 "cells": [
  {
   "cell_type": "code",
   "execution_count": 56,
   "id": "dee406df",
   "metadata": {},
   "outputs": [],
   "source": [
    "import pandas as pd\n",
    "from matplotlib import pyplot as plt\n",
    "import numpy as np\n",
    "\n",
    "from sklearn.gaussian_process import GaussianProcessClassifier, GaussianProcessRegressor\n",
    "from sklearn.gaussian_process.kernels import RBF\n",
    "from sklearn.preprocessing import OneHotEncoder\n",
    "from sklearn.model_selection import train_test_split\n",
    "\n",
    "from bayes_opt import BayesianOptimization\n"
   ]
  },
  {
   "cell_type": "code",
   "execution_count": 3,
   "id": "dc59044a",
   "metadata": {},
   "outputs": [
    {
     "name": "stdout",
     "output_type": "stream",
     "text": [
      "Unnamed: 0\n",
      "date\n",
      "season\n",
      "neutral\n",
      "playoff\n",
      "team1\n",
      "team2\n",
      "elo1_pre\n",
      "elo2_pre\n",
      "elo_prob1\n",
      "elo_prob2\n",
      "elo1_post\n",
      "elo2_post\n",
      "qbelo1_pre\n",
      "qbelo2_pre\n",
      "qb1\n",
      "qb2\n",
      "qb1_value_pre\n",
      "qb2_value_pre\n",
      "qb1_adj\n",
      "qb2_adj\n",
      "qbelo_prob1\n",
      "qbelo_prob2\n",
      "qb1_game_value\n",
      "qb2_game_value\n",
      "qb1_value_post\n",
      "qb2_value_post\n",
      "qbelo1_post\n",
      "qbelo2_post\n",
      "score1\n",
      "score2\n",
      "quality\n",
      "importance\n",
      "total_rating\n",
      "year\n",
      "spread\n",
      "spread_result\n",
      "ou_line\n",
      "ou_result\n"
     ]
    }
   ],
   "source": [
    "data = pd.read_csv(\"./scraped_data/clean_betting_data.csv\")\n",
    "for c in data.columns:\n",
    "    print(c)"
   ]
  },
  {
   "cell_type": "markdown",
   "id": "dc9b50e1",
   "metadata": {},
   "source": [
    "## Preprocess Data"
   ]
  },
  {
   "cell_type": "code",
   "execution_count": 29,
   "id": "0264bd18",
   "metadata": {},
   "outputs": [],
   "source": [
    "X_data = data[['qbelo1_pre', 'qbelo2_pre', 'qb1_value_pre', 'qb2_value_pre']].values\n",
    "y_gt = data['ou_result'].values[:,np.newaxis]\n",
    "enc = OneHotEncoder().fit(y_gt)\n",
    "y_data = enc.transform(y_gt).toarray()"
   ]
  },
  {
   "cell_type": "code",
   "execution_count": 54,
   "id": "39d70965",
   "metadata": {},
   "outputs": [],
   "source": [
    "X_trainval, X_test, y_trainval, y_test = train_test_split(X_data, y_data, test_size=0.2)\n",
    "X_train, X_val, y_train, y_val = train_test_split(X_trainval, y_trainval, test_size=0.2)\n",
    "\n",
    "X_mean = np.mean(X_train, axis=0)\n",
    "X_std = np.std(X_train, axis=0)\n",
    "\n",
    "X_train = (X_train - X_mean)/X_std\n",
    "X_val = (X_val - X_mean)/X_std\n",
    "X_test = (X_test - X_mean)/X_std"
   ]
  },
  {
   "cell_type": "markdown",
   "id": "15b40f32",
   "metadata": {},
   "source": [
    "## GP Classifier"
   ]
  },
  {
   "cell_type": "code",
   "execution_count": 62,
   "id": "1bf23331",
   "metadata": {},
   "outputs": [
    {
     "name": "stderr",
     "output_type": "stream",
     "text": [
      "/Users/clo/miniforge3/envs/nflbetting/lib/python3.10/site-packages/sklearn/gaussian_process/kernels.py:430: ConvergenceWarning: The optimal value found for dimension 0 of parameter length_scale is close to the specified upper bound 100000.0. Increasing the bound and calling fit again may find a better value.\n",
      "  warnings.warn(\n"
     ]
    },
    {
     "name": "stdout",
     "output_type": "stream",
     "text": [
      "0.98046875\n",
      "0.984375\n"
     ]
    }
   ],
   "source": [
    "model = GaussianProcessClassifier(kernel=RBF(0.5))\n",
    "model = model.fit(X_train, y_train[:,1])\n",
    "print(model.score(X_val, y_val[:,1]))\n",
    "print(model.score(X_test, y_test[:,1]))"
   ]
  },
  {
   "cell_type": "code",
   "execution_count": null,
   "id": "57326d36",
   "metadata": {},
   "outputs": [],
   "source": []
  }
 ],
 "metadata": {
  "kernelspec": {
   "display_name": "Python 3 (ipykernel)",
   "language": "python",
   "name": "python3"
  },
  "language_info": {
   "codemirror_mode": {
    "name": "ipython",
    "version": 3
   },
   "file_extension": ".py",
   "mimetype": "text/x-python",
   "name": "python",
   "nbconvert_exporter": "python",
   "pygments_lexer": "ipython3",
   "version": "3.10.2"
  }
 },
 "nbformat": 4,
 "nbformat_minor": 5
}
