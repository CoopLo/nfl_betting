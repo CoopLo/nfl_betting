{
 "cells": [
  {
   "cell_type": "code",
   "execution_count": 1,
   "metadata": {},
   "outputs": [],
   "source": [
    "# import packages \n",
    "import numpy as np \n",
    "import pandas as pd\n",
    "import matplotlib.pyplot as plt\n",
    "\n",
    "import torch\n",
    "from torch.utils.data import Dataset\n",
    "from torch.utils.data import DataLoader\n",
    "from torch import nn\n",
    "\n",
    "from tqdm import tqdm"
   ]
  },
  {
   "cell_type": "code",
   "execution_count": 2,
   "metadata": {},
   "outputs": [],
   "source": [
    "# load data \n",
    "df = pd.read_csv('./scraped_data/elo_pfr_betting_data.csv')\n",
    "df['OU_RESULT'] = df['ou_result'].apply(lambda x: 0 if(x == 'U') else 1 if(x == 'O') else 2)\n",
    "\n",
    "# shift target column \n",
    "target = 'OU_RESULT'    # column name to predict\n",
    "\n",
    "df = df[df['OU_RESULT'] != 2]"
   ]
  },
  {
   "cell_type": "code",
   "execution_count": 3,
   "metadata": {},
   "outputs": [
    {
     "name": "stderr",
     "output_type": "stream",
     "text": [
      "/var/folders/mh/wfzfv8nd3g7_8w30_pjfbhtr0000gn/T/ipykernel_62101/117191939.py:8: SettingWithCopyWarning: \n",
      "A value is trying to be set on a copy of a slice from a DataFrame.\n",
      "Try using .loc[row_indexer,col_indexer] = value instead\n",
      "\n",
      "See the caveats in the documentation: https://pandas.pydata.org/pandas-docs/stable/user_guide/indexing.html#returning-a-view-versus-a-copy\n",
      "  benchmark_data['home_time_of_poss'] = benchmark_data['home_time_of_poss'].apply(lambda x: 60*float(x[:2]) + float(x[3:]))\n",
      "/var/folders/mh/wfzfv8nd3g7_8w30_pjfbhtr0000gn/T/ipykernel_62101/117191939.py:9: SettingWithCopyWarning: \n",
      "A value is trying to be set on a copy of a slice from a DataFrame.\n",
      "Try using .loc[row_indexer,col_indexer] = value instead\n",
      "\n",
      "See the caveats in the documentation: https://pandas.pydata.org/pandas-docs/stable/user_guide/indexing.html#returning-a-view-versus-a-copy\n",
      "  benchmark_data['away_time_of_poss'] = benchmark_data['away_time_of_poss'].apply(lambda x: 60*float(x[:2]) + float(x[3:]))\n"
     ]
    }
   ],
   "source": [
    "game_data_columns = []\n",
    "for c in df.columns:\n",
    "    if(\"home\" in c or \"away\" in c):\n",
    "        if('td' not in c and 'xp' not in c and 'fg' not in c):\n",
    "            game_data_columns.append(c)\n",
    "\n",
    "benchmark_data = df[game_data_columns]\n",
    "benchmark_data['home_time_of_poss'] = benchmark_data['home_time_of_poss'].apply(lambda x: 60*float(x[:2]) + float(x[3:]))\n",
    "benchmark_data['away_time_of_poss'] = benchmark_data['away_time_of_poss'].apply(lambda x: 60*float(x[:2]) + float(x[3:]))"
   ]
  },
  {
   "cell_type": "code",
   "execution_count": 4,
   "metadata": {},
   "outputs": [],
   "source": [
    "test_start = int(df.shape[0]*0.8)\n",
    "df_train = benchmark_data.loc[:test_start].copy()\n",
    "df_train[target] = df.loc[:test_start][target]\n",
    "df_test  = benchmark_data[test_start:].copy()\n",
    "df_test[target] = df.loc[test_start:][target]"
   ]
  },
  {
   "cell_type": "code",
   "execution_count": 5,
   "metadata": {},
   "outputs": [],
   "source": [
    "# Standardize features \n",
    "target_mean = df.loc[:test_start][target].mean()\n",
    "target_stdev = df.loc[test_start:][target].std()\n",
    "\n",
    "for c in df_train.columns:\n",
    "    mean = df_train[c].mean()\n",
    "    stdev = df_train[c].std()\n",
    "\n",
    "    df_train[c] = (df_train[c] - mean) / stdev\n",
    "    df_test[c] = (df_test[c] - mean) / stdev"
   ]
  },
  {
   "cell_type": "code",
   "execution_count": 6,
   "metadata": {},
   "outputs": [],
   "source": [
    "# Create a dataset that pytorch loader can work with \n",
    "class SequenceDataset(Dataset):\n",
    "    def __init__(self, dataframe, target, features, sequence_length=5):\n",
    "        self.features = features\n",
    "        self.target = target\n",
    "        self.sequence_length = sequence_length\n",
    "        self.y = torch.tensor(dataframe[target].values).float()\n",
    "        self.X = torch.tensor(dataframe[features].values).float()\n",
    "\n",
    "    def __len__(self):\n",
    "        return self.X.shape[0]\n",
    "\n",
    "    def __getitem__(self, i): \n",
    "        if i >= self.sequence_length - 1:\n",
    "            i_start = i - self.sequence_length + 1\n",
    "            x = self.X[i_start:(i + 1), :]\n",
    "        else:\n",
    "            padding = self.X[0].repeat(self.sequence_length - i - 1, 1)\n",
    "            x = self.X[0:(i + 1), :]\n",
    "            x = torch.cat((padding, x), 0)\n",
    "\n",
    "        return x, self.y[i]\n",
    "    \n",
    "class NFLClassificationDataset(Dataset):\n",
    "    def __init__(self, dataframe, target, features):\n",
    "        self.features = features\n",
    "        self.target = target\n",
    "        self.y = torch.tensor(dataframe[target].values).long()\n",
    "        self.X = torch.tensor(dataframe[features].values).float()\n",
    "        \n",
    "    def __len__(self):\n",
    "        return self.X.shape[0]\n",
    "    \n",
    "    def __getitem__(self, i):\n",
    "        return self.X[i], self.y[i]"
   ]
  },
  {
   "cell_type": "code",
   "execution_count": 7,
   "metadata": {},
   "outputs": [],
   "source": [
    "features = list(df_train.columns.difference([target]))\n",
    "sequence_length = 16\n",
    "\n",
    "train_dataset = NFLClassificationDataset(\n",
    "    df_train,\n",
    "    target=target,\n",
    "    features=features,\n",
    ")\n",
    "\n",
    "test_dataset = NFLClassificationDataset(\n",
    "    df_test,\n",
    "    target=target,\n",
    "    features=features,\n",
    ")"
   ]
  },
  {
   "cell_type": "code",
   "execution_count": 8,
   "metadata": {},
   "outputs": [],
   "source": [
    "# Set the dataset in pytorch dataloader\n",
    "torch.manual_seed(99)\n",
    "batch_size = 16\n",
    "train_loader = DataLoader(train_dataset, batch_size=batch_size, shuffle=True)\n",
    "test_loader = DataLoader(test_dataset, batch_size=batch_size, shuffle=False)"
   ]
  },
  {
   "cell_type": "code",
   "execution_count": 9,
   "metadata": {},
   "outputs": [],
   "source": [
    "# hyperparameters\n",
    "lr = 1e-3\n",
    "epoch = 1000\n",
    "input_size = len(features)\n",
    "hidden_size = 32\n",
    "dropout = 0.5\n",
    "\n",
    "model = nn.Sequential(\n",
    "    nn.Linear(input_size, 64),\n",
    "    nn.Dropout(dropout),\n",
    "    nn.ReLU(),\n",
    "    nn.Linear(64,64),\n",
    "    nn.Dropout(dropout),\n",
    "    nn.ReLU(),\n",
    "    nn.Linear(64,2),\n",
    "    nn.Softmax(dim=1)\n",
    ")\n",
    "\n",
    "#loss_func = nn.MSELoss()\n",
    "loss_func = nn.CrossEntropyLoss()\n",
    "criterion = torch.optim.Adam(model.parameters(), lr = lr)"
   ]
  },
  {
   "cell_type": "code",
   "execution_count": 10,
   "metadata": {},
   "outputs": [],
   "source": [
    "# Training \n",
    "def train(data, model, loss_func, optimizer):\n",
    "    n_batches = len(data)\n",
    "    total_loss = 0\n",
    "    model.train()\n",
    "    \n",
    "    for x,y in data:\n",
    "        output= model(x)\n",
    "        loss = loss_func(output, y)\n",
    "        \n",
    "        optimizer.zero_grad()\n",
    "        loss.backward()\n",
    "        optimizer.step()\n",
    "        \n",
    "        total_loss += loss.item()\n",
    "        \n",
    "    mean_loss = total_loss/n_batches\n",
    "    #print(f'Training loss: {mean_loss}')\n",
    "    return mean_loss, model\n",
    "    \n",
    "\n",
    "def test(data,model,loss_func):\n",
    "    n_batches = len(data)\n",
    "    total_loss = 0\n",
    "    \n",
    "    model.eval()\n",
    "    with torch.no_grad():\n",
    "        for x, y in data:\n",
    "            output= model(x)\n",
    "            total_loss += loss_func(output,y).item()\n",
    "            \n",
    "    mean_loss = total_loss/n_batches\n",
    "    #print(f'Test loss: {mean_loss}')\n",
    "    \n",
    "    return mean_loss     "
   ]
  },
  {
   "cell_type": "code",
   "execution_count": 11,
   "metadata": {},
   "outputs": [],
   "source": [
    "# prediction function\n",
    "def predict(data, model):\n",
    "    \n",
    "    output = torch.tensor([])\n",
    "    model.eval()\n",
    "    \n",
    "    with torch.no_grad():\n",
    "        for X,_ in data:\n",
    "            y_fit = model(X)\n",
    "            output = torch.cat((output,y_fit), 0)\n",
    "    \n",
    "    return output"
   ]
  },
  {
   "cell_type": "code",
   "execution_count": 12,
   "metadata": {},
   "outputs": [
    {
     "name": "stderr",
     "output_type": "stream",
     "text": [
      "  0%|                                                                       | 0/1000 [00:00<?, ?it/s]/Users/clo/miniforge3/envs/nflbetting/lib/python3.10/site-packages/torch/nn/modules/container.py:141: UserWarning: Implicit dimension choice for softmax has been deprecated. Change the call to include dim=X as an argument.\n",
      "  input = module(input)\n",
      "  0%|▎                                                              | 4/1000 [00:00<00:55, 17.93it/s]"
     ]
    },
    {
     "name": "stdout",
     "output_type": "stream",
     "text": [
      "TRAIN LOSS: 0.64667\n",
      "TEST LOSS: 0.57056\n"
     ]
    },
    {
     "name": "stderr",
     "output_type": "stream",
     "text": [
      " 10%|██████▏                                                      | 102/1000 [00:05<00:49, 18.27it/s]"
     ]
    },
    {
     "name": "stdout",
     "output_type": "stream",
     "text": [
      "TRAIN LOSS: 0.48671\n",
      "TEST LOSS: 0.55019\n"
     ]
    },
    {
     "name": "stderr",
     "output_type": "stream",
     "text": [
      " 20%|████████████▎                                                | 202/1000 [00:11<00:44, 17.80it/s]"
     ]
    },
    {
     "name": "stdout",
     "output_type": "stream",
     "text": [
      "TRAIN LOSS: 0.47498\n",
      "TEST LOSS: 0.54841\n"
     ]
    },
    {
     "name": "stderr",
     "output_type": "stream",
     "text": [
      " 30%|██████████████████▍                                          | 302/1000 [00:17<00:39, 17.64it/s]"
     ]
    },
    {
     "name": "stdout",
     "output_type": "stream",
     "text": [
      "TRAIN LOSS: 0.46011\n",
      "TEST LOSS: 0.55604\n"
     ]
    },
    {
     "name": "stderr",
     "output_type": "stream",
     "text": [
      " 40%|████████████████████████▌                                    | 402/1000 [00:23<00:36, 16.52it/s]"
     ]
    },
    {
     "name": "stdout",
     "output_type": "stream",
     "text": [
      "TRAIN LOSS: 0.45506\n",
      "TEST LOSS: 0.56078\n"
     ]
    },
    {
     "name": "stderr",
     "output_type": "stream",
     "text": [
      " 50%|██████████████████████████████▌                              | 502/1000 [00:28<00:27, 18.22it/s]"
     ]
    },
    {
     "name": "stdout",
     "output_type": "stream",
     "text": [
      "TRAIN LOSS: 0.44819\n",
      "TEST LOSS: 0.56109\n"
     ]
    },
    {
     "name": "stderr",
     "output_type": "stream",
     "text": [
      " 60%|████████████████████████████████████▋                        | 602/1000 [00:34<00:23, 16.93it/s]"
     ]
    },
    {
     "name": "stdout",
     "output_type": "stream",
     "text": [
      "TRAIN LOSS: 0.44423\n",
      "TEST LOSS: 0.55546\n"
     ]
    },
    {
     "name": "stderr",
     "output_type": "stream",
     "text": [
      " 70%|██████████████████████████████████████████▊                  | 702/1000 [00:40<00:16, 18.43it/s]"
     ]
    },
    {
     "name": "stdout",
     "output_type": "stream",
     "text": [
      "TRAIN LOSS: 0.43841\n",
      "TEST LOSS: 0.55709\n"
     ]
    },
    {
     "name": "stderr",
     "output_type": "stream",
     "text": [
      " 80%|████████████████████████████████████████████████▉            | 802/1000 [00:45<00:10, 18.10it/s]"
     ]
    },
    {
     "name": "stdout",
     "output_type": "stream",
     "text": [
      "TRAIN LOSS: 0.44315\n",
      "TEST LOSS: 0.56885\n"
     ]
    },
    {
     "name": "stderr",
     "output_type": "stream",
     "text": [
      " 90%|███████████████████████████████████████████████████████      | 902/1000 [00:52<00:06, 15.96it/s]"
     ]
    },
    {
     "name": "stdout",
     "output_type": "stream",
     "text": [
      "TRAIN LOSS: 0.43385\n",
      "TEST LOSS: 0.56655\n"
     ]
    },
    {
     "name": "stderr",
     "output_type": "stream",
     "text": [
      "100%|████████████████████████████████████████████████████████████| 1000/1000 [00:57<00:00, 17.37it/s]"
     ]
    },
    {
     "name": "stdout",
     "output_type": "stream",
     "text": [
      "TRAIN LOSS: 0.44033\n",
      "TEST LOSS: 0.56383\n"
     ]
    },
    {
     "name": "stderr",
     "output_type": "stream",
     "text": [
      "\n"
     ]
    },
    {
     "data": {
      "image/png": "[encoded data removed]",
      "text/plain": [
       "<Figure size 432x288 with 1 Axes>"
      ]
     },
     "metadata": {
      "needs_background": "light"
     },
     "output_type": "display_data"
    }
   ],
   "source": [
    "# Run lstm \n",
    "trainloss = []\n",
    "testloss = []\n",
    "for i in tqdm(range(epoch)):\n",
    "    train_loss, model = train(train_loader, model, loss_func, optimizer=criterion)\n",
    "    trainloss.append(train_loss)\n",
    "    test_loss  = test(test_loader, model, loss_func)\n",
    "    testloss.append(test_loss)    \n",
    "    if(((i+1)%100) == 0 or (i == 0)):\n",
    "        print(\"TRAIN LOSS: {0:.5f}\".format(train_loss))\n",
    "        print(\"TEST LOSS: {0:.5f}\".format(test_loss))\n",
    "\n",
    "fig, ax = plt.subplots()\n",
    "ax.plot(trainloss)\n",
    "ax.plot(testloss)\n",
    "plt.show()"
   ]
  },
  {
   "cell_type": "code",
   "execution_count": 62,
   "metadata": {},
   "outputs": [
    {
     "name": "stdout",
     "output_type": "stream",
     "text": [
      "CLASSIFICATION ACCURACY: 75.119%\n"
     ]
    },
    {
     "name": "stderr",
     "output_type": "stream",
     "text": [
      "/Users/clo/miniforge3/envs/nflbetting/lib/python3.10/site-packages/torch/nn/modules/container.py:141: UserWarning: Implicit dimension choice for softmax has been deprecated. Change the call to include dim=X as an argument.\n",
      "  input = module(input)\n"
     ]
    },
    {
     "data": {
      "text/plain": [
       "75.1188589540412"
      ]
     },
     "execution_count": 62,
     "metadata": {},
     "output_type": "execute_result"
    }
   ],
   "source": [
    "def evaluate(data, model):\n",
    "    preds, labels = [], []\n",
    "    with torch.no_grad():\n",
    "        for x, y in data:\n",
    "            labels.append(y.item())\n",
    "            preds.append(model(x).argmax().item())\n",
    "            \n",
    "    acc = 100*sum(np.array(preds) == np.array(labels))/len(preds)\n",
    "    print(\"CLASSIFICATION ACCURACY: {0:.3f}%\".format(acc))\n",
    "    return acc\n",
    "            \n",
    "evaluate(test_dataset, model)"
   ]
  },
  {
   "cell_type": "markdown",
   "metadata": {},
   "source": [
    "## Bayesopt"
   ]
  },
  {
   "cell_type": "code",
   "execution_count": 63,
   "metadata": {},
   "outputs": [],
   "source": [
    "def get_datasets(batch_size=16):\n",
    "    \n",
    "    # Get dataset\n",
    "    test_start = int(df.shape[0]*0.8)\n",
    "    valid_start = int(df.shape[0]*0.64)\n",
    "    df_train = benchmark_data.loc[:valid_start].copy()\n",
    "    df_valid = benchmark_data.loc[valid_start:test_start].copy()\n",
    "    df_test  = benchmark_data[test_start:].copy()\n",
    "    \n",
    "    # Standardize features \n",
    "    for c in df_train.columns:\n",
    "        mean = df_train[c].mean()\n",
    "        stdev = df_train[c].std()\n",
    "\n",
    "        df_train[c] = (df_train[c] - mean) / stdev\n",
    "        df_valid[c] = (df_valid[c] - mean) / stdev\n",
    "        df_test[c] = (df_test[c] - mean) / stdev\n",
    "        \n",
    "    df_train[target] = df.loc[:test_start][target]\n",
    "    df_valid[target] = df.loc[valid_start:test_start][target]\n",
    "    df_test[target] = df.loc[test_start:][target]\n",
    "    \n",
    "    features = list(df_train.columns.difference([target]))\n",
    "    train_dataset = NFLClassificationDataset(df_train, target=target, features=features)\n",
    "    valid_dataset = NFLClassificationDataset(df_valid, target=target, features=features)\n",
    "    test_dataset = NFLClassificationDataset(df_test, target=target, features=features)\n",
    "    \n",
    "    torch.manual_seed(99)\n",
    "    train_loader = DataLoader(train_dataset, batch_size=batch_size, shuffle=True)\n",
    "    valid_loader = DataLoader(valid_dataset, batch_size=1, shuffle=False)\n",
    "    test_loader = DataLoader(test_dataset, batch_size=1, shuffle=False)\n",
    "    \n",
    "    return train_loader, valid_loader, test_loader\n",
    "\n",
    "def get_model(lr, features, hidden_size, dropout, layers):\n",
    "    # hyperparameters\n",
    "    lr = lr\n",
    "    input_size = len(features)\n",
    "    hidden_size = hidden_size\n",
    "    dropout = dropout\n",
    "    layers = layers\n",
    "\n",
    "    # Build model\n",
    "    model = nn.Sequential(\n",
    "        nn.Linear(input_size, hidden_size),\n",
    "        nn.ReLU()\n",
    "    )\n",
    "    for l in range(layers):\n",
    "        model.append(nn.Linear(hidden_size, hidden_size))\n",
    "        model.append(nn.Dropout(dropout))\n",
    "        model.append(nn.ReLU())\n",
    "    model.append(nn.Linear(hidden_size, 2))\n",
    "    model.append(nn.Softmax(dim=1))\n",
    "\n",
    "    optimizer = torch.optim.Adam(model.parameters(), lr = lr)\n",
    "    \n",
    "    return model, optimizer"
   ]
  },
  {
   "cell_type": "code",
   "execution_count": 64,
   "metadata": {},
   "outputs": [],
   "source": [
    "def target_function(lr=-3, epoch=1000, hidden_size=32, layers=3, dropout=0.5, batch_size=16):\n",
    "    \n",
    "    train_loader, valid_loader, test_loader = get_datasets(batch_size=int(batch_size))\n",
    "    model, optimizer = get_model(10**lr, features, int(hidden_size), dropout, int(layers))\n",
    "    loss_func = nn.CrossEntropyLoss()\n",
    "    \n",
    "    # Run lstm \n",
    "    trainloss = []\n",
    "    valloss = []\n",
    "    for i in tqdm(range(int(epoch))):\n",
    "        train_loss, model = train(train_loader, model, loss_func, optimizer=criterion)\n",
    "        trainloss.append(train_loss)\n",
    "        val_loss  = test(valid_loader, model, loss_func)\n",
    "        valloss.append(val_loss)    \n",
    "        #if(((i+1)%100) == 0 or (i == 0)):\n",
    "        #    print(\"TRAIN LOSS: {0:.5f}\".format(train_loss))\n",
    "        #    print(\"TEST LOSS: {0:.5f}\".format(val_loss))\n",
    "\n",
    "    return evaluate(valid_loader, model)"
   ]
  },
  {
   "cell_type": "code",
   "execution_count": 65,
   "metadata": {},
   "outputs": [],
   "source": [
    "from bayes_opt import BayesianOptimization\n",
    "\n",
    "pbounds = {\n",
    "    'lr': (-10,-1),\n",
    "    'epoch': (10, 2000),\n",
    "    'hidden_size': (1, 256),\n",
    "    'layers': (1, 7),\n",
    "    'dropout': (0.0, 1.0),\n",
    "    'batch_size': (1, 128),\n",
    "}\n",
    "\n",
    "optimizer = BayesianOptimization(\n",
    "    f=target_function,\n",
    "    pbounds=pbounds,\n",
    "    random_state=1\n",
    ")"
   ]
  },
  {
   "cell_type": "code",
   "execution_count": null,
   "metadata": {},
   "outputs": [
    {
     "name": "stdout",
     "output_type": "stream",
     "text": [
      "|   iter    |  target   | batch_... |  dropout  |   epoch   | hidden... |  layers   |    lr     |\n",
      "-------------------------------------------------------------------------------------------------\n"
     ]
    },
    {
     "name": "stderr",
     "output_type": "stream",
     "text": [
      "100%|████████████████████████████████████████████████████████████████| 10/10 [00:00<00:00, 16.78it/s]\n"
     ]
    },
    {
     "name": "stdout",
     "output_type": "stream",
     "text": [
      "CLASSIFICATION ACCURACY: 54.781%\n",
      "| \u001b[0m 1       \u001b[0m | \u001b[0m 54.78   \u001b[0m | \u001b[0m 53.96   \u001b[0m | \u001b[0m 0.7203  \u001b[0m | \u001b[0m 10.23   \u001b[0m | \u001b[0m 78.09   \u001b[0m | \u001b[0m 1.881   \u001b[0m | \u001b[0m-9.169   \u001b[0m |\n"
     ]
    },
    {
     "name": "stderr",
     "output_type": "stream",
     "text": [
      " 34%|████████████████████▊                                         | 269/799 [00:43<01:25,  6.18it/s]"
     ]
    }
   ],
   "source": [
    "optimizer.maximize(\n",
    "    init_points=2,\n",
    "    n_iter=3\n",
    ")"
   ]
  },
  {
   "cell_type": "code",
   "execution_count": null,
   "metadata": {},
   "outputs": [],
   "source": []
  }
 ],
 "metadata": {
  "kernelspec": {
   "display_name": "Python 3 (ipykernel)",
   "language": "python",
   "name": "python3"
  },
  "language_info": {
   "codemirror_mode": {
    "name": "ipython",
    "version": 3
   },
   "file_extension": ".py",
   "mimetype": "text/x-python",
   "name": "python",
   "nbconvert_exporter": "python",
   "pygments_lexer": "ipython3",
   "version": "3.10.2"
  }
 },
 "nbformat": 4,
 "nbformat_minor": 4
}
